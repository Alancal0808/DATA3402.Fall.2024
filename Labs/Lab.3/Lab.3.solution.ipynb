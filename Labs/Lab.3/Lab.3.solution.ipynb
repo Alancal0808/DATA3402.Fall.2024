{
 "cells": [
  {
   "cell_type": "markdown",
   "metadata": {},
   "source": [
    "# Lab 3\n",
    "\n",
    "In this lab we will become familiar with distributions, histograms, and functional programming. Do not use numpy or any other library for this lab.\n",
    "\n",
    "Before that, lets get setup homework submission and submit your previous lab.  \n",
    "\n",
    "## Working on the Command-line.\n",
    "\n",
    "It is important for you to learn to work on the command line and to be familiar with the Unix environment (e.g. Linux, Mac OS, or Windows Linux Subsystem). We'll go over working on the command-line in detail later in the course.\n",
    "\n",
    "You are required to submit your work in this course via GitHub. Today in class, you will setup everything on the command-line.\n",
    "\n",
    "### Command-line basics\n",
    "\n",
    "There is plenty of material online that will help you figure out how to do various tasks on the command line. Commands you may need to know today:\n",
    "\n",
    "* `ls`: lists the contents of the current directory.\n",
    "* `pwd`: prints the path of the current directory.\n",
    "* `cd <directory>`: changes your current directory to the specified directory.\n",
    "* `cd ..`: changes current directory to the previous directory. Basically steps out of the current directory to the directory containing the current directory.\n",
    "* `mkdir <directory>`: create a new directory with the specified name.\n",
    "* `rmdir <directory>`: removes the specified directory. Note it has to be empty.\n",
    "* `rm <filename>`: deletes the specified file.\n",
    "* `mv <filename 1> <filename 1>`: Moves or renames a file.\n",
    "* `cp <filename 1> <filename 2>`: copies an file. If you just provide a path to a directory, it copies the file into that directory with the same filename. If you specifiy a new filename, the copy has a new name. For example `cp File.1.txt File.2.txt` creates a copy of `File.1.txt` with the name `File.2.txt`. Meanwhile `cp File.1.txt my_directory`, where `my_directory` is a directory, creates a copy of `File.1.txt` in directory `my_directory` with the name `File.1.txt`.\n",
    "\n",
    "For reference, here are some example resources I found by googling:\n",
    "\n",
    "* Paths and Wildcards: https://www.warp.dev/terminus/linux-wildcards\n",
    "* Basic commands like copy: https://kb.iu.edu/d/afsk\n",
    "* General introduction to shell: https://github-pages.ucl.ac.uk/RCPSTrainingMaterials/HPCandHTCusingLegion/2_intro_to_shell.html\n",
    "* Manual pages: https://www.geeksforgeeks.org/linux-man-page-entries-different-types/?ref=ml_lbp\n",
    "* Chaining commands: https://www.geeksforgeeks.org/chaining-commands-in-linux/?ref=ml_lbp\n",
    "* Piping: https://www.geeksforgeeks.org/piping-in-unix-or-linux/\n",
    "* Using sed: https://www.geeksforgeeks.org/sed-command-linux-set-2/?ref=ml_lbp\n",
    "* Various Unix commands: https://www.geeksforgeeks.org/linux-commands/?ref=lbp\n",
    "* Cheat sheets:\n",
    "    * https://www.stationx.net/unix-commands-cheat-sheet/\n",
    "    * https://cheatography.com/davechild/cheat-sheets/linux-command-line/\n",
    "    * https://www.theknowledgeacademy.com/blog/unix-commands-cheat-sheet/\n",
    "    \n",
    "These aren't necessarily the best resources. Feel free to search for better ones. Also, don't forget that Unix has built-in manual pages for all of its commands. Just type `man <command>` at the command prompt. Use the space-bar to scroll through the documentation and \"q\" to exit.\n",
    "\n",
    "\n",
    "### Setup and Submission\n",
    "\n",
    "Our course repository is public. The instructions here aim to have you setup a fork of the course repository. Unfortunately because you are forking a public repo, your fork will have to be public also. \n",
    "\n",
    "You should be familiar with git from the first semester of this course. I assume that you all have github accounts and have setup things to be able to [push to github using ssh](https://docs.github.com/en/github/authenticating-to-github/connecting-to-github-with-ssh). The instuctions here lead you to:\n",
    "\n",
    "We'll overview what you will do before going through step by step instructions.\n",
    "\n",
    "1. Setup:\n",
    "    1. Fork the class repository. Some directions in [fork-a-repo](https://docs.github.com/en/github/getting-started-with-github/fork-a-repo).\n",
    "    1. Create a directory on your personal system where you will keep all course materials.\n",
    "    1. In that directory, clone your fork of the repository.\n",
    "    1. Using `git remote`, set the upstream to be the class repo, so you can pull from the class and push to your fork.\n",
    "\n",
    "1. Submission:\n",
    "    1. Copy your solutions into the appropriate directory (e.g. into `Labs/Lab.2/`) and with appropriate filename `Lab.2.solution.ipynb'.\n",
    "    1. Commit / push your solutions.\n",
    "    1. Grant access to course instructors.\n",
    "\n",
    "Below are step by step instructions with examples (including example directory naming convention). Feel free to modify things as you see fit. \n",
    "\n",
    "#### Setup\n",
    "You should only need to follow this instructions once. Here are some useful git commands:\n",
    "\n",
    "* Git help: `git help`\n",
    "* Git remote help: `git help remote`\n",
    "* Check remote status: `git remote -v`\n",
    "* Add a remote: `git remote add <stream name> <repo URL>`\n",
    "* Add a remove: `git remote remove <stream name>`\n",
    "\n",
    "Steps:\n",
    "1. In a browser, log into GitHub and navigate to the [course repository](https://github.com/UTA-DataScience/DATA3402.Fall.2024).\n",
    "1. On the top right of the page, press the fork button to create a new fork into your own GitHub account.\n",
    "1. After successful fork, you should find the browser showing your fork of the course repository. Use the green \"Code\" button to copy path to the repo into your the clipboard of your computer.\n",
    "1. Open a shell on your personal computer.\n",
    "1. If you have not done so already, create a new directory/folder where you will keep all course material to navigate to it. For example: `mkdir Data-3402` and `cd Data-3402`.\n",
    "1. Clone your fork of the repository using `git clone` followed by the path you copied into your clipboard. (copy/paste)\n",
    "1. Paste the URL to your fork in the worksheet for the TAs and instructors.\n",
    "1. Now go into the directory of your clone (`cd DATA3402.Fall.2024`).\n",
    "1. Type `git remote -v` to see the current setup for fetch and pull.\n",
    "1. Note the URL you see. This should be the same as what you used for your clone for both push and fetch.\n",
    "1. Delete the origin remote using `git remote remove origin`.\n",
    "1. Add the course repo as your remote using `git remote add origin https://github.com/UTA-DataScience/DATA3402.Fall.2024.git`.\n",
    "1. Change the push to point to your fork. This means you will need the URL to your clone we copied earlier and confirmed as the original origin. The command will look something like: `git remote set-url --push origin  https://github.com/XXXXXX/DATA3402.Fall.2024.git`, where XXXXX is your username on GitHub.\n",
    "1. Note that if you setup everything correctly, you now should be able to do `git pull` to get updates from the course repo, and do `git push` to push your commits into your own fork.\n",
    "\n",
    "### Submission\n",
    "These instructions outline how you submit files. Some useful commands:\n",
    "* To add a file to local repository: `git add <file>`.\n",
    "* To commit all changed files into local repository: `git -a -m \"A message\"`. You need to provide some comment when you commit. \n",
    "* To push the commited files from the local repository to GitHub: `git push`.\n",
    "* To get updates from GitHub: `git pull`.\n",
    "\n",
    "Steps:\n",
    "1. To submit your labs, navigate to your clone of your fork of the course repository. \n",
    "1. Use `git pull` to make sure you have the latest updates. \n",
    "1. Make sure your copy of the lab your are working on is in the appropriate place in this clone. That means if you have the file elsewhere, copy it to the same directory in your clone of your fork. \n",
    "1. Note that in order to avoid future conflicts, you should always name your solution differently than the original file in the class repo. For example if your file is still named `Lab.2.ipynb` you should rename it using the `mv` command: `mv Lab.2.ipynb Lab.2.solution.ipynb`. \n",
    "1. Add and files you wish to submit into the repo. For example: `git add Labs/Lab.2/Lab.2.solution.ipynb`\n",
    "1. Commit any changes: `git commit -a -m \"Lab 2 updates\"`\n",
    "1. Push your changes: `git push`\n",
    "1. Check on github website that your solutions have been properly submitted.\n",
    "\n",
    "Before you leave the session today, make sure your GitHub Repo is setup. If you need to work further on your lab, navigate jupyter to the copy of the lab you just submitted and work there. Once done, repeat the commit and push commands to submit your updated solution. Note that lab 2 is due by midnight Monday 9/8/2024.\n"
   ]
  },
  {
   "cell_type": "markdown",
   "metadata": {},
   "source": [
    "### Uniform Distribution\n",
    "Lets start with generating some fake random data. You can get a random number between 0 and 1 using the python random module as follow:"
   ]
  },
  {
   "cell_type": "code",
   "execution_count": 7,
   "metadata": {},
   "outputs": [
    {
     "name": "stdout",
     "output_type": "stream",
     "text": [
      "The Value of x is 0.4895456349295786\n"
     ]
    }
   ],
   "source": [
    "import random\n",
    "x=random.random()\n",
    "print(\"The Value of x is\", x)"
   ]
  },
  {
   "cell_type": "markdown",
   "metadata": {},
   "source": [
    "Everytime you call random, you will get a new number.\n",
    "\n",
    "*Exercise 1:* Using random, write a function `generate_uniform(N, mymin, mymax)`, that returns a python list containing N random numbers between specified minimum and maximum value. Note that you may want to quickly work out on paper how to turn numbers between 0 and 1 to between other values. "
   ]
  },
  {
   "cell_type": "code",
   "execution_count": 8,
   "metadata": {},
   "outputs": [],
   "source": [
    "# Skeleton\n",
    "def generate_uniform(N,x_min,x_max):\n",
    "    out = []\n",
    "    ### BEGIN SOLUTION\n",
    "\n",
    "    return [x_min + (x_max - x_min) * random.random() for _ in range(N)]      \n",
    "    \n",
    "    ### END SOLUTION\n",
    "    return out"
   ]
  },
  {
   "cell_type": "code",
   "execution_count": 13,
   "metadata": {},
   "outputs": [
    {
     "name": "stdout",
     "output_type": "stream",
     "text": [
      "Data Type: <class 'list'>\n",
      "Data Length: 1000\n",
      "Type of Data Contents: <class 'float'>\n",
      "Data Minimum: -9.976103336223069\n",
      "Data Maximum: 9.993251030523883\n"
     ]
    }
   ],
   "source": [
    "# Test your solution here\n",
    "data=generate_uniform(1000,-10,10)\n",
    "print (\"Data Type:\", type(data))\n",
    "print (\"Data Length:\", len(data))\n",
    "if len(data)>0: \n",
    "    print (\"Type of Data Contents:\", type(data[0]))\n",
    "    print (\"Data Minimum:\", min(data))\n",
    "    print (\"Data Maximum:\", max(data))"
   ]
  },
  {
   "cell_type": "markdown",
   "metadata": {},
   "source": [
    "*Exercise 2a:* \n",
    "Write a function that computes the mean of values in a list. Recall the equation for the mean of a random variable $\\bf{x}$ computed on a data set of $n$ values $\\{ x_i \\} = \\{x_1, x_2, ..., x_n\\}$  is ${\\bf\\bar{x}} = \\frac{1}{n} \\sum_i^n x_i$."
   ]
  },
  {
   "cell_type": "code",
   "execution_count": 27,
   "metadata": {},
   "outputs": [
    {
     "name": "stdout",
     "output_type": "stream",
     "text": [
      "Mean of Data: 30.0\n"
     ]
    }
   ],
   "source": [
    "# Skeleton\n",
    "def mean(Data):\n",
    "    m=0.\n",
    "    \n",
    "    ### BEGIN SOLUTION\n",
    "    if not Data:\n",
    "        return 0\n",
    "    return sum(Data) / len(Data)\n",
    "    \n",
    "    ### END SOLUTION\n",
    "    \n",
    "\n",
    "# Test your solution here\n",
    "data = [10,20,30,40,50]\n",
    "mean = mean(data)\n",
    "print (\"Mean of Data:\", mean)"
   ]
  },
  {
   "cell_type": "markdown",
   "metadata": {},
   "source": [
    "*Exercise 2b:* \n",
    "Write a function that computes the variance of values in a list. Recall the equation for the variance of a random variable $\\bf{x}$ computed on a data set of $n$ values $\\{ x_i \\} = \\{x_1, x_2, ..., x_n\\}$  is ${\\bf\\langle x \\rangle} = \\frac{1}{n} \\sum_i^n (x_i - {\\bf\\bar{x}})$."
   ]
  },
  {
   "cell_type": "code",
   "execution_count": 29,
   "metadata": {},
   "outputs": [
    {
     "name": "stdout",
     "output_type": "stream",
     "text": [
      "Variance of Data: 250.0\n"
     ]
    }
   ],
   "source": [
    "# Skeleton\n",
    "def mean(Data):\n",
    "    m=0.\n",
    "    if not Data:\n",
    "        return 0\n",
    "    return sum(Data) / len(Data)\n",
    "def variance(Data):\n",
    "    m=0.\n",
    "    \n",
    "    ### BEGIN SOLUTION\n",
    "    if len(Data) < 2:\n",
    "        return 0\n",
    "    mean = compute_mean(Data)\n",
    "    return sum((x-mean) **2 for x in Data) / (len(Data) -1)\n",
    "    \n",
    "    ### END SOLUTION\n",
    "    \n",
    "    return m\n",
    "\n",
    "# Test your solution here\n",
    "Data = [10,20,30,40,50]\n",
    "variance_value = variance(Data)\n",
    "print (\"Variance of Data:\", variance_value)"
   ]
  },
  {
   "cell_type": "markdown",
   "metadata": {},
   "source": [
    "## Histogramming"
   ]
  },
  {
   "cell_type": "markdown",
   "metadata": {},
   "source": [
    "*Exercise 3:* Write a function that bins the data so that you can create a histogram. An example of how to implement histogramming is the following logic:\n",
    "\n",
    "* User inputs a list of values `x` and optionally `n_bins` which defaults to 10.\n",
    "* If not supplied, find the minimum and maximum (`x_min`,`x_max`) of the values in x.\n",
    "* Determine the bin size (`bin_size`) by dividing the range of the function by the number of bins.\n",
    "* Create an empty list of zeros of size `n_bins`, call it `hist`.\n",
    "* Loop over the values in `x`\n",
    "    * Loop over the values in `hist` with index `i`:\n",
    "        * If x is between `x_min+i*bin_size` and `x_min+(i+1)*bin_size`, increment `hist[i].` \n",
    "        * For efficiency, try to use continue to goto the next bin and data point.\n",
    "* Return `hist` and the list corresponding of the bin edges (i.e. of `x_min+i*bin_size`).    "
   ]
  },
  {
   "cell_type": "code",
   "execution_count": 36,
   "metadata": {},
   "outputs": [
    {
     "name": "stdout",
     "output_type": "stream",
     "text": [
      "[1, 1, 1, 1, 1, 1, 1, 1, 1, 0]\n"
     ]
    }
   ],
   "source": [
    "# Solution\n",
    "def histogram(x,n_bins=10,x_min=None,x_max=None):\n",
    "    ### BEGIN SOLUTION\n",
    "    x_min = min(x)\n",
    "    x_max = max(x)\n",
    "\n",
    "    bin_size = (x_max-x_min) / n_bins\n",
    "    bins = [x_min + i * bin_size for i in range(n_bins + 1)]\n",
    "\n",
    "    hist = [0] * n_bins\n",
    "    for value in x:\n",
    "        for i in range(n_bins):\n",
    "            if bins[i] <= value < bins[i + 1]:\n",
    "                hist[i] +=1\n",
    "                break\n",
    "       \n",
    "    \n",
    "    ### END SOLUTION\n",
    "\n",
    "    return hist,bins\n",
    "\n",
    "# Test your solution here\n",
    "data = [10,20,30,40,50,60,70,80,90,100]\n",
    "h,b=histogram(data,10)\n",
    "print(h)"
   ]
  },
  {
   "cell_type": "markdown",
   "metadata": {},
   "source": [
    "*Exercise 4:* Write a function that uses the histogram function in the previous exercise to create a text-based \"graph\". For example the output could look like the following:\n",
    "```\n",
    "[  0,  1] : ######\n",
    "[  1,  2] : #####\n",
    "[  2,  3] : ######\n",
    "[  3,  4] : ####\n",
    "[  4,  5] : ####\n",
    "[  5,  6] : ######\n",
    "[  6,  7] : #####\n",
    "[  7,  8] : ######\n",
    "[  8,  9] : ####\n",
    "[  9, 10] : #####\n",
    "```\n",
    "\n",
    "Where each line corresponds to a bin and the number of `#`'s are proportional to the value of the data in the bin. "
   ]
  },
  {
   "cell_type": "code",
   "execution_count": 6,
   "metadata": {},
   "outputs": [
    {
     "name": "stdout",
     "output_type": "stream",
     "text": [
      "[10.0, 14.5] : #\n",
      "[14.5, 19.0] : \n",
      "[19.0, 23.5] : #\n",
      "[23.5, 28.0] : \n",
      "[28.0, 32.5] : #\n",
      "[32.5, 37.0] : \n",
      "[37.0, 41.5] : #\n",
      "[41.5, 46.0] : \n",
      "[46.0, 50.5] : #\n",
      "[50.5, 55.0] : \n",
      "[55.0, 59.5] : \n",
      "[59.5, 64.0] : #\n",
      "[64.0, 68.5] : \n",
      "[68.5, 73.0] : #\n",
      "[73.0, 77.5] : \n",
      "[77.5, 82.0] : #\n",
      "[82.0, 86.5] : \n",
      "[86.5, 91.0] : #\n",
      "[91.0, 95.5] : \n",
      "[95.5, 100.0] : \n"
     ]
    }
   ],
   "source": [
    "# Solution\n",
    "def draw_histogram(x,n_bins,x_min=None,x_max=None,character=\"#\",max_character_per_line=20):\n",
    "    ### BEGIN SOLUTION\n",
    "    x_min = min(data)\n",
    "    x_max = max(data)\n",
    "\n",
    "    bin_size = (x_max - x_min) / n_bins\n",
    "    bins = [x_min + i * bin_size for i in range(n_bins + 1)]\n",
    "\n",
    "    counts = [0] * n_bins\n",
    "    for value in data:\n",
    "        for i in range(n_bins):\n",
    "            if bins[i] <= value < bins[i + 1]:\n",
    "                counts[i] += 1\n",
    "                break\n",
    "\n",
    "    for i in range(n_bins):\n",
    "        print(f\"[{bins[i]:>4.1f}, {bins[i + 1]:>4.1f}] : {'#' * counts[i]}\")\n",
    "    \n",
    "    ### END SOLUTION\n",
    "# Test your solution here\n",
    "data= [10,20,30,40,50,60,70,80,90,100]\n",
    "h=draw_histogram(data,20)"
   ]
  },
  {
   "attachments": {},
   "cell_type": "markdown",
   "metadata": {},
   "source": [
    "\n",
    "## Functional Programming\n",
    "\n",
    "*Exercise 5:* Write a function the applies a booling function (that returns true/false) to every element in data, and return a list of indices of elements where the result was true. Use this function to find the indices of entries greater than 0.5. "
   ]
  },
  {
   "cell_type": "code",
   "execution_count": 22,
   "metadata": {},
   "outputs": [
    {
     "name": "stdout",
     "output_type": "stream",
     "text": [
      "[2, 3, 5]\n"
     ]
    }
   ],
   "source": [
    "def where(mylist,myfunc):\n",
    "    out= []\n",
    "    \n",
    "    ### BEGIN SOLUTION\n",
    "    indices = [index for index, value in enumerate(mylist) if myfunc(value)]\n",
    "    return indices\n",
    "    \n",
    "    ### END SOLUTION\n",
    "    \n",
    "    return out\n",
    "def greater_than(x): \n",
    "    return x > 0.5 \n",
    "\n",
    "list = [0.1, 0.4, 0.6, 0.8, 0.2, 0.9]\n",
    "new_list = where(list, greater_than)\n",
    "print(new_list)"
   ]
  },
  {
   "cell_type": "code",
   "execution_count": null,
   "metadata": {},
   "outputs": [],
   "source": [
    "# Test your solution here"
   ]
  },
  {
   "cell_type": "markdown",
   "metadata": {},
   "source": [
    "*Exercise 6:* The `inrange(mymin,mymax)` function below returns a function that tests if it's input is between the specified values. Write corresponding functions that test:\n",
    "* Even\n",
    "* Odd\n",
    "* Greater than\n",
    "* Less than\n",
    "* Equal\n",
    "* Divisible by"
   ]
  },
  {
   "cell_type": "code",
   "execution_count": 25,
   "metadata": {},
   "outputs": [
    {
     "name": "stdout",
     "output_type": "stream",
     "text": [
      "True True False False False\n",
      "False False True True False\n",
      "Number of Entries passing F1: 0\n",
      "Number of Entries passing F2: 1\n"
     ]
    }
   ],
   "source": [
    "def in_range(mymin,mymax):\n",
    "    def testrange(x):\n",
    "        return x<mymax and x>=mymin\n",
    "    return testrange\n",
    "\n",
    "# Examples:\n",
    "F1=in_range(0,10)\n",
    "F2=in_range(10,20)\n",
    "\n",
    "# Test of in_range\n",
    "print (F1(0), F1(1), F1(10), F1(15), F1(20))\n",
    "print (F2(0), F2(1), F2(10), F2(15), F2(20))\n",
    "\n",
    "print (\"Number of Entries passing F1:\", len(where(data,F1)))\n",
    "print (\"Number of Entries passing F2:\", len(where(data,F2)))"
   ]
  },
  {
   "cell_type": "code",
   "execution_count": 35,
   "metadata": {},
   "outputs": [
    {
     "name": "stdout",
     "output_type": "stream",
     "text": [
      "is even? True\n",
      "is odd? False\n",
      "is greater than 5? True\n",
      "is less than 15? True\n",
      "is equal to 10? True\n",
      "is divisible by 5? True\n"
     ]
    }
   ],
   "source": [
    "### BEGIN SOLUTION\n",
    "def inrange(mymin, mymax):\n",
    "    def test_range(x):\n",
    "        return mymin <= x <= mymax\n",
    "    return test_range\n",
    "\n",
    "def is_even():\n",
    "    def test_even(x):\n",
    "        return x % 2 == 0\n",
    "    return test_even\n",
    "\n",
    "def is_odd():\n",
    "    def test_odd(x):\n",
    "        return x % 2 != 0\n",
    "    return test_odd\n",
    "\n",
    "def greater_than(value):\n",
    "    def test_greater(x):\n",
    "        return x > value\n",
    "    return test_greater\n",
    "\n",
    "def less_than(value):\n",
    "    def test_less(x):\n",
    "        return x < value\n",
    "    return test_less\n",
    "\n",
    "def is_equal(value):\n",
    "    def test_equal(x):\n",
    "        return x == value\n",
    "    return test_equal\n",
    "\n",
    "def divisible_by(value):\n",
    "    def test_divisible(x):\n",
    "        return x % value == 0\n",
    "    return test_divisible\n",
    "### END SOLUTION\n",
    "Test_value = 10\n",
    "print(f\"is even? {is_even()(Test_value)}\")\n",
    "print(f\"is odd? {is_odd()(Test_value)}\")\n",
    "print(f\"is greater than 5? {greater_than(5)(Test_value)}\")\n",
    "print(f\"is less than 15? {less_than(15)(Test_value)}\")\n",
    "print(f\"is equal to 10? {is_equal(10)(Test_value)}\")\n",
    "print(f\"is divisible by 5? {divisible_by(5)(Test_value)}\")\n"
   ]
  },
  {
   "cell_type": "markdown",
   "metadata": {},
   "source": [
    "*Exercise 7:* Repeat the previous exercise using `lambda` and the built-in python functions sum and map instead of your solution above. "
   ]
  },
  {
   "cell_type": "code",
   "execution_count": null,
   "metadata": {},
   "outputs": [],
   "source": [
    "### BEGIN SOLUTION\n",
    "def inrange(mymin, mymax):\n",
    "    def test_range(x):\n",
    "        return mymin <= x <= mymax\n",
    "    return test_range\n",
    "\n",
    "def is_even():\n",
    "    return lambda x: x % 2 == 0\n",
    "\n",
    "def is_odd():\n",
    "    return lambda x: x % 2 != 0\n",
    "\n",
    "def greater_than(value):\n",
    "    return lambda x: x > value\n",
    "\n",
    "def less_than(value):\n",
    "    return lambda x: x < value\n",
    "\n",
    "def is_equal(value):\n",
    "    return lambda x: x == value\n",
    "\n",
    "def divisible_by(value):\n",
    "    return lambda x: x % value == 0   \n",
    "    \n",
    "### END SOLUTION"
   ]
  },
  {
   "cell_type": "markdown",
   "metadata": {},
   "source": [
    "## Monte Carlo\n",
    "\n",
    "*Exercise 7:* Write a \"generator\" function called `generate_function(func,x_min,x_max,N)`, that instead of generating a flat distribution, generates a distribution with functional form coded in `func`. Note that `func` will always be > 0.  \n",
    "\n",
    "Use the test function below and your histogramming functions above to demonstrate that your generator is working properly.\n",
    "\n",
    "Hint: A simple, but slow, solution is to a draw random number `test_x` within the specified range and another number `p` between the `min` and `max` of the function (which you will have to determine). If `p<=function(test_x)`, then place `test_x` on the output. If not, repeat the process, drawing two new numbers. Repeat until you have the specified number of generated numbers, `N`. For this problem, it's OK to determine the `min` and `max` by numerically sampling the function.  "
   ]
  },
  {
   "cell_type": "code",
   "execution_count": 47,
   "metadata": {},
   "outputs": [
    {
     "name": "stdout",
     "output_type": "stream",
     "text": [
      "[5.204453854815476, 3.682669011348043, 4.57856491531645, 2.4837918313901475, 9.232111737554838, 4.083289387867179, 6.093043030467875, 9.457860988629013, 5.245509233664571, 8.916857617100202, 9.652257100458483, 2.8066940512795635, 9.039604515836274, 1.6126649148997618, 4.149012873460574, 7.992908143981001, 8.840537067980444, 3.9578973544397122, 7.117128508145193, 9.688694606539668, 7.822907060988056, 6.362862703243563, 4.307487453677748, 9.02982729942183, 6.721356298071718, 2.2399538217475556, 9.584961633815865, 4.178890415491035, 2.78647803314507, 6.024742785594382, 3.303867892158323, 8.821370620903789, 7.201382549596679, 6.33599671548514, 3.828232856330709, 0.5581322404793099, 6.359894176816978, 4.0680220227866135, 1.0327426362205594, 5.897092539762472, 9.92753667051173, 7.248699643595453, 4.655018108228396, 9.065489363240287, 4.855786792775318, 2.6269013559494994, 9.407155619399752, 0.735882704685169, 5.923053867375964, 6.228975308459669, 1.1010408548753658, 6.756119533080449, 1.311272772059614, 8.937037999693697, 7.666271980222095, 9.252935572531557, 7.931642065706268, 8.530913085956854, 9.304905340895576, 9.929294740322733, 6.809768155278237, 5.915441606757095, 3.0080563885236367, 2.540173683734668, 4.437731549524039, 6.508517506050076, 7.789291971562867, 9.302458137427497, 3.807766211465813, 5.794350570773853, 4.226220812508776, 3.8755307182793852, 5.667160185830387, 9.363441188851032, 6.392034115774212, 8.32302291997265, 5.764976751571221, 4.381107964169652, 3.4194472331326855, 8.48971011648899, 8.311498028806856, 4.127347471600274, 3.7306190997699398, 7.2244561782947425, 4.5652877667686695, 8.243807399684757, 2.967951583733688, 6.667255870809262, 7.214295125163988, 6.752715472015211, 3.112230319390611, 9.017263616912869, 4.226672301362444, 8.103660780693987, 1.9922634786509974, 4.7530989275491144, 6.715093876497474, 3.6072518215331195, 4.6713713019987395, 5.686102457889951]\n",
      "[ 0.6,  1.5] : #####\n",
      "[ 1.5,  2.4] : ###\n",
      "[ 2.4,  3.4] : #########\n",
      "[ 3.4,  4.3] : ###############\n",
      "[ 4.3,  5.2] : ##########\n",
      "[ 5.2,  6.2] : ##########\n",
      "[ 6.2,  7.1] : #############\n",
      "[ 7.1,  8.1] : #########\n",
      "[ 8.1,  9.0] : ##########\n",
      "[ 9.0,  9.9] : ###############\n"
     ]
    }
   ],
   "source": [
    "import random\n",
    "import numpy as np\n",
    "def generate_function(func,x_min,x_max,N=1000):\n",
    "    ### BEGIN SOLUTION\n",
    "    x_N = np.linspace(x_min, x_max, N)\n",
    "    y_N = [func(x) for x in x_N]\n",
    "    \n",
    "    func_min = min(y_N)\n",
    "    func_max = max(y_N)\n",
    "    \n",
    "    generated_numbers = []\n",
    "    \n",
    "    while len(generated_numbers) < N:\n",
    "        test_x = random.uniform(x_min, x_max)\n",
    "        p = random.uniform(0, func_max)\n",
    "        \n",
    "        if p <= func(test_x):\n",
    "            generated_numbers.append(test_x)\n",
    "    \n",
    "    return generated_numbers\n",
    "    \n",
    "    ### END SOLUTION\n",
    "    \n",
    "    return out\n",
    "def text_based_histogram(data, num_bins):\n",
    "    data_min = min(data)\n",
    "    data_max = max(data)\n",
    "    bin_size = (data_max - data_min) / num_bins\n",
    "    bins = [data_min + i * bin_size for i in range(num_bins + 1)]\n",
    "    \n",
    "    counts = [0] * num_bins\n",
    "    for value in data:\n",
    "        for i in range(num_bins):\n",
    "            if bins[i] <= value < bins[i + 1]:\n",
    "                counts[i] += 1\n",
    "                break\n",
    "\n",
    "    for i in range(num_bins):\n",
    "        print(f\"[{bins[i]:>4.1f}, {bins[i + 1]:>4.1f}] : {'#' * counts[i]}\")\n",
    "\n",
    "# A test function\n",
    "def test_func(x,a=1,b=1):\n",
    "    return abs(a*x+b)\n",
    "x_min = 0\n",
    "x_max = 10\n",
    "N = 100\n",
    "generated_numbers = generate_function(test_func, x_min, x_max, N)\n",
    "\n",
    "print(generated_numbers)\n",
    "text_based_histogram(generated_numbers, num_bins=10)"
   ]
  },
  {
   "cell_type": "markdown",
   "metadata": {},
   "source": [
    "*Exercise 8:* Use your function to generate 1000 numbers that are normal distributed, using the `gaussian` function below. Confirm the mean and variance of the data is close to the mean and variance you specify when building the Gaussian. Histogram the data. "
   ]
  },
  {
   "cell_type": "code",
   "execution_count": null,
   "metadata": {},
   "outputs": [],
   "source": [
    "import math\n",
    "\n",
    "def gaussian(mean, sigma):\n",
    "    def f(x):\n",
    "        return math.exp(-((x-mean)**2)/(2*sigma**2))/math.sqrt(math.pi*sigma)\n",
    "    return f\n",
    "\n",
    "# Example Instantiation\n",
    "g1=gaussian(0,1)\n",
    "g2=gaussian(10,3)"
   ]
  },
  {
   "cell_type": "markdown",
   "metadata": {},
   "source": [
    "*Exercise 9:* Combine your `generate_function`, `where`, and `in_range` functions above to create an integrate function. Use your integrate function to show that approximately 68% of Normal distribution is within one variance."
   ]
  },
  {
   "cell_type": "code",
   "execution_count": null,
   "metadata": {},
   "outputs": [],
   "source": [
    "def integrate(func, x_min, x_max, n_points=1000):\n",
    "    \n",
    "    return integral"
   ]
  },
  {
   "cell_type": "code",
   "execution_count": null,
   "metadata": {},
   "outputs": [],
   "source": []
  }
 ],
 "metadata": {
  "kernelspec": {
   "display_name": "Python 3 (ipykernel)",
   "language": "python",
   "name": "python3"
  },
  "language_info": {
   "codemirror_mode": {
    "name": "ipython",
    "version": 3
   },
   "file_extension": ".py",
   "mimetype": "text/x-python",
   "name": "python",
   "nbconvert_exporter": "python",
   "pygments_lexer": "ipython3",
   "version": "3.10.12"
  }
 },
 "nbformat": 4,
 "nbformat_minor": 4
}
