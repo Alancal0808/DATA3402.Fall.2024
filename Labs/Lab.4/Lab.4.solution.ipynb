{
 "cells": [
  {
   "cell_type": "markdown",
   "metadata": {},
   "source": [
    "# Lab 4- Object Oriented Programming\n",
    "\n",
    "For all of the exercises below, make sure you provide tests of your solutions.\n"
   ]
  },
  {
   "cell_type": "markdown",
   "metadata": {},
   "source": [
    "1. Write a \"counter\" class that can be incremented up to a specified maximum value, will print an error if an attempt is made to increment beyond that value, and allows reseting the counter. "
   ]
  },
  {
   "cell_type": "code",
   "execution_count": 2,
   "metadata": {},
   "outputs": [
    {
     "name": "stdout",
     "output_type": "stream",
     "text": [
      "Current value: 1\n",
      "Current value: 2\n",
      "Current value: 3\n",
      "Current value: 4\n",
      "Current value: 5\n",
      "Error: Cannot Add more than 5\n",
      "Current value: 5\n",
      "Error: Cannot Add more than 5\n",
      "Current value: 5\n",
      "Reset, value: 0\n"
     ]
    }
   ],
   "source": [
    "class Counter:\n",
    "    def __init__(self, max_value):\n",
    "        if max_value < 0:\n",
    "            raise ValueError(\"Maximum value must be non-negative.\")\n",
    "        self.max_value = max_value\n",
    "        self.count = 0\n",
    "\n",
    "    def increment(self):\n",
    "        if self.count < self.max_value:\n",
    "            self.count += 1\n",
    "        else:\n",
    "            print(\"Error: Cannot Add more than\", self.max_value)\n",
    "\n",
    "    def reset(self):\n",
    "        self.count = 0\n",
    "\n",
    "    def current_value(self):\n",
    "        return self.count\n",
    "\n",
    "if __name__ == \"__main__\":\n",
    "    counter = Counter(5)\n",
    "\n",
    "    for _ in range(7):  \n",
    "        counter.increment()\n",
    "        print(\"Current value:\", counter.current_value())\n",
    "\n",
    "    counter.reset()\n",
    "    print(\"Reset, value:\", counter.current_value())"
   ]
  },
  {
   "cell_type": "markdown",
   "metadata": {},
   "source": [
    "2. Copy and paste your solution to question 1 and modify it so that all the data held by the counter is private. Implement functions to check the value of the counter, check the maximum value, and check if the counter is at the maximum."
   ]
  },
  {
   "cell_type": "code",
   "execution_count": 7,
   "metadata": {},
   "outputs": [
    {
     "name": "stdout",
     "output_type": "stream",
     "text": [
      "Current value: 1\n",
      "Current value: 2\n",
      "Current value: 3\n",
      "Current value: 4\n",
      "Current value: 5\n",
      "Error: Cannot increment beyond maximum value of 5\n",
      "Current value: 5\n",
      "Error: Cannot increment beyond maximum value of 5\n",
      "Current value: 5\n",
      "Maximum value: 5\n",
      "Is at maximum: True\n",
      "After reset, current value: 0\n"
     ]
    }
   ],
   "source": [
    "class Counter:\n",
    "    def __init__(self, max_value):\n",
    "        if max_value < 0:\n",
    "            raise ValueError(\"Maximum value must be non-negative.\")\n",
    "        self.__max_value = max_value\n",
    "        self.__count = 0\n",
    "\n",
    "    def increment(self):\n",
    "        if self.__count < self.__max_value:\n",
    "            self.__count += 1\n",
    "        else:\n",
    "            print(\"Error: Cannot increment beyond maximum value of\", self.__max_value)\n",
    "\n",
    "    def reset(self):\n",
    "        self.__count = 0\n",
    "\n",
    "    def current_value(self):\n",
    "        return self.__count\n",
    "\n",
    "    def max_value(self):\n",
    "        return self.__max_value\n",
    "\n",
    "    def is_at_maximum(self):\n",
    "        return self.__count == self.__max_value\n",
    "\n",
    "counter = Counter(5)\n",
    "\n",
    "for _ in range(7):\n",
    "    counter.increment()\n",
    "    print(\"Current value:\", counter.current_value())\n",
    "\n",
    "print(\"Maximum value:\", counter.max_value())\n",
    "print(\"Is at maximum:\", counter.is_at_maximum())\n",
    "\n",
    "counter.reset()\n",
    "print(\"After reset, current value:\", counter.current_value())"
   ]
  },
  {
   "cell_type": "markdown",
   "metadata": {},
   "source": [
    "3. Implement a class to represent a rectangle, holding the length, width, and $x$ and $y$ coordinates of a corner of the object. Implement functions that compute the area and perimeter of the rectangle. Make all data members private and privide accessors to retrieve values of data members. "
   ]
  },
  {
   "cell_type": "code",
   "execution_count": 6,
   "metadata": {},
   "outputs": [
    {
     "name": "stdout",
     "output_type": "stream",
     "text": [
      "Length: 5\n",
      "Width: 3\n",
      "Coordinates of corner: (1, 2)\n",
      "Area: 15\n",
      "Perimeter: 16\n"
     ]
    }
   ],
   "source": [
    "class Rectangle:\n",
    "    def __init__(self, length, width, x, y):\n",
    "        if length <= 0 or width <= 0:\n",
    "            raise ValueError(\"Length and width must be positive values.\")\n",
    "        self.__length = length\n",
    "        self.__width = width\n",
    "        self.__corner_x = x\n",
    "        self.__corner_y = y\n",
    "\n",
    "    def area(self):\n",
    "        return self.__length * self.__width\n",
    "\n",
    "    def perimeter(self):\n",
    "        return 2 * (self.__length + self.__width)\n",
    "\n",
    "    def get_length(self):\n",
    "        return self.__length\n",
    "\n",
    "    def get_width(self):\n",
    "        return self.__width\n",
    "\n",
    "    def get_coordinates(self):\n",
    "        return (self.__corner_x, self.__corner_y)\n",
    "\n",
    "rectan = Rectangle(5, 3, 1, 2)\n",
    "\n",
    "print(\"Length:\", rectan.get_length())\n",
    "print(\"Width:\", rectan.get_width())\n",
    "print(\"Coordinates of corner:\", rectan.get_coordinates())\n",
    "print(\"Area:\", rectan.area())\n",
    "print(\"Perimeter:\", rectan.perimeter())"
   ]
  },
  {
   "cell_type": "markdown",
   "metadata": {},
   "source": [
    "4. Implement a class to represent a circle, holding the radius and $x$ and $y$ coordinates of center of the object. Implement functions that compute the area and perimeter of the rectangle. Make all data members private and privide accessors to retrieve values of data members. "
   ]
  },
  {
   "cell_type": "code",
   "execution_count": 1,
   "metadata": {},
   "outputs": [
    {
     "name": "stdout",
     "output_type": "stream",
     "text": [
      "Radius: 5\n",
      "Center: (0, 0)\n",
      "Area: 78.53981633974483\n",
      "Perimeter (Circumference): 31.41592653589793\n"
     ]
    }
   ],
   "source": [
    "import math\n",
    "\n",
    "class Circle:\n",
    "    def __init__(self, radius, x_center, y_center):\n",
    "        self.__radius = radius  \n",
    "        self.__x_center = x_center \n",
    "        self.__y_center = y_center\n",
    "\n",
    "    def get_radius(self):\n",
    "        return self.__radius\n",
    "\n",
    "    def get_x_center(self):\n",
    "        return self.__x_center\n",
    "\n",
    "    def get_y_center(self):\n",
    "        return self.__y_center\n",
    "\n",
    "    def area(self):\n",
    "        return math.pi * (self.__radius ** 2)\n",
    "\n",
    "    def perimeter(self):\n",
    "        return 2 * math.pi * self.__radius\n",
    "\n",
    "my_circle = Circle(5, 0, 0)\n",
    "print(\"Radius:\", my_circle.get_radius())\n",
    "print(\"Center:\", (my_circle.get_x_center(), my_circle.get_y_center()))\n",
    "print(\"Area:\", my_circle.area())\n",
    "print(\"Perimeter (Circumference):\", my_circle.perimeter())"
   ]
  },
  {
   "cell_type": "markdown",
   "metadata": {},
   "source": [
    "5. Implement a common base class for the classes implemented in 3 and 4 above which implements all common methods as not implemented functions (virtual). Re-implement your regtangle and circule classes to inherit from the base class and overload the functions accordingly. "
   ]
  },
  {
   "cell_type": "code",
   "execution_count": 2,
   "metadata": {},
   "outputs": [
    {
     "name": "stdout",
     "output_type": "stream",
     "text": [
      "{'type': 'Circle', 'radius': 5, 'center': (0, 0)}\n",
      "Area: 78.53981633974483\n",
      "Perimeter: 31.41592653589793\n",
      "{'type': 'Rectangle', 'width': 4, 'height': 6, 'top_left': (1, 1)}\n",
      "Area: 24\n",
      "Perimeter: 20\n"
     ]
    }
   ],
   "source": [
    "from abc import ABC, abstractmethod\n",
    "import math\n",
    "\n",
    "class Shape(ABC):\n",
    "    @abstractmethod\n",
    "    def area(self):\n",
    "        pass\n",
    "\n",
    "    @abstractmethod\n",
    "    def perimeter(self):\n",
    "        pass\n",
    "\n",
    "    @abstractmethod\n",
    "    def get_details(self):\n",
    "        pass\n",
    "\n",
    "\n",
    "class Circle(Shape):\n",
    "    def __init__(self, radius, x_center, y_center):\n",
    "        self.__radius = radius\n",
    "        self.__x_center = x_center\n",
    "        self.__y_center = y_center\n",
    "\n",
    "    def area(self):\n",
    "        return math.pi * (self.__radius ** 2)\n",
    "\n",
    "    def perimeter(self):\n",
    "        return 2 * math.pi * self.__radius\n",
    "\n",
    "    def get_details(self):\n",
    "        return {\n",
    "            \"type\": \"Circle\",\n",
    "            \"radius\": self.__radius,\n",
    "            \"center\": (self.__x_center, self.__y_center)\n",
    "        }\n",
    "\n",
    "\n",
    "class Rectangle(Shape):\n",
    "    def __init__(self, width, height, x_top_left, y_top_left):\n",
    "        self.__width = width\n",
    "        self.__height = height\n",
    "        self.__x_top_left = x_top_left\n",
    "        self.__y_top_left = y_top_left\n",
    "\n",
    "    def area(self):\n",
    "        return self.__width * self.__height\n",
    "\n",
    "    def perimeter(self):\n",
    "        return 2 * (self.__width + self.__height)\n",
    "\n",
    "    def get_details(self):\n",
    "        return {\n",
    "            \"type\": \"Rectangle\",\n",
    "            \"width\": self.__width,\n",
    "            \"height\": self.__height,\n",
    "            \"top_left\": (self.__x_top_left, self.__y_top_left)\n",
    "        }\n",
    "\n",
    "my_circle = Circle(5, 0, 0)\n",
    "print(my_circle.get_details())\n",
    "print(\"Area:\", my_circle.area())\n",
    "print(\"Perimeter:\", my_circle.perimeter())\n",
    "\n",
    "my_rectangle = Rectangle(4, 6, 1, 1)\n",
    "print(my_rectangle.get_details())\n",
    "print(\"Area:\", my_rectangle.area())\n",
    "print(\"Perimeter:\", my_rectangle.perimeter())"
   ]
  },
  {
   "cell_type": "markdown",
   "metadata": {},
   "source": [
    "6. Implement a triangle class analogous to the rectangle and circle in question 5."
   ]
  },
  {
   "cell_type": "code",
   "execution_count": 4,
   "metadata": {},
   "outputs": [
    {
     "name": "stdout",
     "output_type": "stream",
     "text": [
      "{'type': 'Triangle', 'sides': (3, 4, 5), 'vertices': ((0, 0), (3, 0), (0, 4))}\n",
      "Area: 6.0\n",
      "Perimeter: 12\n"
     ]
    }
   ],
   "source": [
    "class Triangle(Shape):\n",
    "    def __init__(self, a, b, c, x1, y1, x2, y2, x3, y3):\n",
    "        self.__a = a \n",
    "        self.__b = b \n",
    "        self.__c = c\n",
    "        self.__vertices = ((x1, y1), (x2, y2), (x3, y3))\n",
    "\n",
    "    def area(self):\n",
    "        s = (self.__a + self.__b + self.__c) / 2\n",
    "        return math.sqrt(s * (s - self.__a) * (s - self.__b) * (s - self.__c))\n",
    "\n",
    "    def perimeter(self):\n",
    "        return self.__a + self.__b + self.__c\n",
    "\n",
    "    def get_details(self):\n",
    "        return {\n",
    "            \"type\": \"Triangle\",\n",
    "            \"sides\": (self.__a, self.__b, self.__c),\n",
    "            \"vertices\": self.__vertices\n",
    "        }\n",
    "my_triangle = Triangle(3, 4, 5, 0, 0, 3, 0, 0, 4)\n",
    "print(my_triangle.get_details())\n",
    "print(\"Area:\", my_triangle.area())\n",
    "print(\"Perimeter:\", my_triangle.perimeter())"
   ]
  },
  {
   "cell_type": "markdown",
   "metadata": {},
   "source": [
    "7. Add a function to the object classes, including the base, that returns a list of up to 16 pairs of  $x$ and $y$ points on the parameter of the object. "
   ]
  },
  {
   "cell_type": "code",
   "execution_count": 6,
   "metadata": {},
   "outputs": [
    {
     "name": "stdout",
     "output_type": "stream",
     "text": [
      "Perimeter Points: [(5.0, 0.0), (4.619397662556434, 1.913417161825449), (3.5355339059327378, 3.5355339059327373), (1.9134171618254492, 4.619397662556434), (3.061616997868383e-16, 5.0), (-1.9134171618254485, 4.619397662556434), (-3.5355339059327373, 3.5355339059327378), (-4.619397662556434, 1.9134171618254494), (-5.0, 6.123233995736766e-16), (-4.619397662556434, -1.9134171618254483), (-3.5355339059327386, -3.5355339059327373), (-1.9134171618254516, -4.619397662556432), (-9.184850993605148e-16, -5.0), (1.91341716182545, -4.619397662556433), (3.535533905932737, -3.5355339059327386), (4.619397662556432, -1.913417161825452)]\n",
      "Perimeter Points: [(1.0, 1), (2.0, 1), (3.0, 1), (4.0, 1), (5, 1.0), (5, 2.5), (5, 4.0), (5, 5.5), (5.0, 7), (4.0, 7), (3.0, 7), (2.0, 7), (1, 7.0), (1, 5.5), (1, 4.0), (1, 2.5)]\n",
      "Perimeter Points: [(0.0, 0.0), (0.6000000000000001, 0.0), (1.2000000000000002, 0.0), (1.7999999999999998, 0.0), (2.4000000000000004, 0.0), (3.0, 0.0), (2.4, 0.8), (1.7999999999999998, 1.6), (1.2000000000000002, 2.4), (0.5999999999999996, 3.2), (0.0, 4.0), (0.0, 3.2), (0.0, 2.4), (0.0, 1.6), (0.0, 0.7999999999999998)]\n"
     ]
    }
   ],
   "source": [
    "from abc import ABC, abstractmethod\n",
    "import math\n",
    "\n",
    "class Shape(ABC):\n",
    "    @abstractmethod\n",
    "    def area(self):\n",
    "        pass\n",
    "\n",
    "    @abstractmethod\n",
    "    def perimeter(self):\n",
    "        pass\n",
    "\n",
    "    @abstractmethod\n",
    "    def get_details(self):\n",
    "        pass\n",
    "    \n",
    "    @abstractmethod\n",
    "    def get_perimeter_points(self, num_points=16):\n",
    "        pass\n",
    "\n",
    "\n",
    "class Circle(Shape):\n",
    "    def __init__(self, radius, x_center, y_center):\n",
    "        self.__radius = radius\n",
    "        self.__x_center = x_center\n",
    "        self.__y_center = y_center\n",
    "\n",
    "    def area(self):\n",
    "        return math.pi * (self.__radius ** 2)\n",
    "\n",
    "    def perimeter(self):\n",
    "        return 2 * math.pi * self.__radius\n",
    "\n",
    "    def get_details(self):\n",
    "        return {\n",
    "            \"type\": \"Circle\",\n",
    "            \"radius\": self.__radius,\n",
    "            \"center\": (self.__x_center, self.__y_center)\n",
    "        }\n",
    "\n",
    "    def get_perimeter_points(self, num_points=16):\n",
    "        return [\n",
    "            (\n",
    "                self.__x_center + self.__radius * math.cos(2 * math.pi * i / num_points),\n",
    "                self.__y_center + self.__radius * math.sin(2 * math.pi * i / num_points)\n",
    "            )\n",
    "            for i in range(num_points)\n",
    "        ]\n",
    "\n",
    "\n",
    "class Rectangle(Shape):\n",
    "    def __init__(self, width, height, x_top_left, y_top_left):\n",
    "        self.__width = width\n",
    "        self.__height = height\n",
    "        self.__x_top_left = x_top_left\n",
    "        self.__y_top_left = y_top_left\n",
    "\n",
    "    def area(self):\n",
    "        return self.__width * self.__height\n",
    "\n",
    "    def perimeter(self):\n",
    "        return 2 * (self.__width + self.__height)\n",
    "\n",
    "    def get_details(self):\n",
    "        return {\n",
    "            \"type\": \"Rectangle\",\n",
    "            \"width\": self.__width,\n",
    "            \"height\": self.__height,\n",
    "            \"top_left\": (self.__x_top_left, self.__y_top_left)\n",
    "        }\n",
    "\n",
    "    def get_perimeter_points(self, num_points=16):\n",
    "        points = []\n",
    "        segment_count = 4\n",
    "        points_per_segment = num_points // segment_count\n",
    "\n",
    "        for i in range(points_per_segment):\n",
    "            x = self.__x_top_left + (i / points_per_segment) * self.__width\n",
    "            points.append((x, self.__y_top_left))\n",
    "        \n",
    "        for i in range(points_per_segment):\n",
    "            y = self.__y_top_left + (i / points_per_segment) * self.__height\n",
    "            points.append((self.__x_top_left + self.__width, y))\n",
    "\n",
    "        for i in range(points_per_segment):\n",
    "            x = self.__x_top_left + self.__width - (i / points_per_segment) * self.__width\n",
    "            points.append((x, self.__y_top_left + self.__height))\n",
    "\n",
    "        for i in range(points_per_segment):\n",
    "            y = self.__y_top_left + self.__height - (i / points_per_segment) * self.__height\n",
    "            points.append((self.__x_top_left, y))\n",
    "\n",
    "        return points[:num_points] \n",
    "\n",
    "\n",
    "class Triangle(Shape):\n",
    "    def __init__(self, a, b, c, x1, y1, x2, y2, x3, y3):\n",
    "        self.__a = a  # Length of side a\n",
    "        self.__b = b  # Length of side b\n",
    "        self.__c = c  # Length of side c\n",
    "        self.__vertices = ((x1, y1), (x2, y2), (x3, y3))\n",
    "\n",
    "    def area(self):\n",
    "        s = (self.__a + self.__b + self.__c) / 2\n",
    "        return math.sqrt(s * (s - self.__a) * (s - self.__b) * (s - self.__c))\n",
    "\n",
    "    def perimeter(self):\n",
    "        return self.__a + self.__b + self.__c\n",
    "\n",
    "    def get_details(self):\n",
    "        return {\n",
    "            \"type\": \"Triangle\",\n",
    "            \"sides\": (self.__a, self.__b, self.__c),\n",
    "            \"vertices\": self.__vertices\n",
    "        }\n",
    "\n",
    "    def get_perimeter_points(self, num_points=16):\n",
    "        points = []\n",
    "        segment_count = 3\n",
    "        points_per_segment = num_points // segment_count\n",
    "        \n",
    "        for i in range(points_per_segment):\n",
    "            x = self.__vertices[0][0] + (self.__vertices[1][0] - self.__vertices[0][0]) * (i / points_per_segment)\n",
    "            y = self.__vertices[0][1] + (self.__vertices[1][1] - self.__vertices[0][1]) * (i / points_per_segment)\n",
    "            points.append((x, y))\n",
    "\n",
    "        for i in range(points_per_segment):\n",
    "            x = self.__vertices[1][0] + (self.__vertices[2][0] - self.__vertices[1][0]) * (i / points_per_segment)\n",
    "            y = self.__vertices[1][1] + (self.__vertices[2][1] - self.__vertices[1][1]) * (i / points_per_segment)\n",
    "            points.append((x, y))\n",
    "\n",
    "        for i in range(points_per_segment):\n",
    "            x = self.__vertices[2][0] + (self.__vertices[0][0] - self.__vertices[2][0]) * (i / points_per_segment)\n",
    "            y = self.__vertices[2][1] + (self.__vertices[0][1] - self.__vertices[2][1]) * (i / points_per_segment)\n",
    "            points.append((x, y))\n",
    "\n",
    "        return points[:num_points]\n",
    "\n",
    "\n",
    "my_circle = Circle(5, 0, 0)\n",
    "print(\"Perimeter Points:\", my_circle.get_perimeter_points())\n",
    "\n",
    "my_rectangle = Rectangle(4, 6, 1, 1)\n",
    "print(\"Perimeter Points:\", my_rectangle.get_perimeter_points())\n",
    "\n",
    "my_triangle = Triangle(3, 4, 5, 0, 0, 3, 0, 0, 4)\n",
    "print(\"Perimeter Points:\", my_triangle.get_perimeter_points())"
   ]
  },
  {
   "cell_type": "markdown",
   "metadata": {},
   "source": [
    "8. Add a function to the object classes, including the base, that tests if a given set of $x$ and $y$ coordinates are inside of the object. You'll have to think through how to determine if a set of coordinates are inside an object for each object type."
   ]
  },
  {
   "cell_type": "code",
   "execution_count": 10,
   "metadata": {},
   "outputs": [
    {
     "name": "stdout",
     "output_type": "stream",
     "text": [
      "Contains point (3, 3): True\n",
      "Contains point (0, 0): True\n",
      "Contains point (2, 3): True\n",
      "Contains point (5, 5): True\n",
      "Contains point (1, 1): True\n",
      "Contains point (5, 5): False\n"
     ]
    }
   ],
   "source": [
    "from abc import ABC, abstractmethod\n",
    "import math\n",
    "\n",
    "class Shape(ABC):\n",
    "    @abstractmethod\n",
    "    def area(self):\n",
    "        pass\n",
    "\n",
    "    @abstractmethod\n",
    "    def perimeter(self):\n",
    "        pass\n",
    "\n",
    "    @abstractmethod\n",
    "    def get_details(self):\n",
    "        pass\n",
    "    \n",
    "    @abstractmethod\n",
    "    def get_perimeter_points(self, num_points=16):\n",
    "        pass\n",
    "\n",
    "    @abstractmethod\n",
    "    def contains_point(self, x, y):\n",
    "        pass\n",
    "\n",
    "\n",
    "class Circle(Shape):\n",
    "    def __init__(self, radius, x_center, y_center):\n",
    "        self.__radius = radius\n",
    "        self.__x_center = x_center\n",
    "        self.__y_center = y_center\n",
    "\n",
    "    def area(self):\n",
    "        return math.pi * (self.__radius ** 2)\n",
    "\n",
    "    def perimeter(self):\n",
    "        return 2 * math.pi * self.__radius\n",
    "\n",
    "    def get_details(self):\n",
    "        return {\n",
    "            \"type\": \"Circle\",\n",
    "            \"radius\": self.__radius,\n",
    "            \"center\": (self.__x_center, self.__y_center)\n",
    "        }\n",
    "\n",
    "    def get_perimeter_points(self, num_points=16):\n",
    "        return [\n",
    "            (\n",
    "                self.__x_center + self.__radius * math.cos(2 * math.pi * i / num_points),\n",
    "                self.__y_center + self.__radius * math.sin(2 * math.pi * i / num_points)\n",
    "            )\n",
    "            for i in range(num_points)\n",
    "        ]\n",
    "\n",
    "    def contains_point(self, x, y):\n",
    "        return (x - self.__x_center) ** 2 + (y - self.__y_center) ** 2 < self.__radius ** 2\n",
    "\n",
    "\n",
    "class Rectangle(Shape):\n",
    "    def __init__(self, width, height, x_top_left, y_top_left):\n",
    "        self.__width = width\n",
    "        self.__height = height\n",
    "        self.__x_top_left = x_top_left\n",
    "        self.__y_top_left = y_top_left\n",
    "\n",
    "    def area(self):\n",
    "        return self.__width * self.__height\n",
    "\n",
    "    def perimeter(self):\n",
    "        return 2 * (self.__width + self.__height)\n",
    "\n",
    "    def get_details(self):\n",
    "        return {\n",
    "            \"type\": \"Rectangle\",\n",
    "            \"width\": self.__width,\n",
    "            \"height\": self.__height,\n",
    "            \"top_left\": (self.__x_top_left, self.__y_top_left)\n",
    "        }\n",
    "\n",
    "    def get_perimeter_points(self, num_points=16):\n",
    "        points = []\n",
    "        segment_count = 4\n",
    "        points_per_segment = num_points // segment_count\n",
    "\n",
    "        for i in range(points_per_segment):\n",
    "            x = self.__x_top_left + (i / points_per_segment) * self.__width\n",
    "            points.append((x, self.__y_top_left))\n",
    "        \n",
    "        for i in range(points_per_segment):\n",
    "            y = self.__y_top_left + (i / points_per_segment) * self.__height\n",
    "            points.append((self.__x_top_left + self.__width, y))\n",
    "\n",
    "        for i in range(points_per_segment):\n",
    "            x = self.__x_top_left + self.__width - (i / points_per_segment) * self.__width\n",
    "            points.append((x, self.__y_top_left + self.__height))\n",
    "\n",
    "        for i in range(points_per_segment):\n",
    "            y = self.__y_top_left + self.__height - (i / points_per_segment) * self.__height\n",
    "            points.append((self.__x_top_left, y))\n",
    "\n",
    "        return points[:num_points] \n",
    "\n",
    "    def contains_point(self, x, y):\n",
    "        return (self.__x_top_left <= x <= self.__x_top_left + self.__width and\n",
    "                self.__y_top_left <= y <= self.__y_top_left + self.__height)\n",
    "\n",
    "\n",
    "class Triangle(Shape):\n",
    "    def __init__(self, a, b, c, x1, y1, x2, y2, x3, y3):\n",
    "        self.__a = a \n",
    "        self.__b = b  \n",
    "        self.__c = c\n",
    "        self.__vertices = ((x1, y1), (x2, y2), (x3, y3))\n",
    "\n",
    "    def area(self):\n",
    "        s = (self.__a + self.__b + self.__c) / 2\n",
    "        return math.sqrt(s * (s - self.__a) * (s - self.__b) * (s - self.__c))\n",
    "\n",
    "    def perimeter(self):\n",
    "        return self.__a + self.__b + self.__c\n",
    "\n",
    "    def get_details(self):\n",
    "        return {\n",
    "            \"type\": \"Triangle\",\n",
    "            \"sides\": (self.__a, self.__b, self.__c),\n",
    "            \"vertices\": self.__vertices\n",
    "        }\n",
    "\n",
    "    def get_perimeter_points(self, num_points=16):\n",
    "        points = []\n",
    "        segment_count = 3\n",
    "        points_per_segment = num_points // segment_count\n",
    "        \n",
    "        for i in range(points_per_segment):\n",
    "            x = self.__vertices[0][0] + (self.__vertices[1][0] - self.__vertices[0][0]) * (i / points_per_segment)\n",
    "            y = self.__vertices[0][1] + (self.__vertices[1][1] - self.__vertices[0][1]) * (i / points_per_segment)\n",
    "            points.append((x, y))\n",
    "\n",
    "        for i in range(points_per_segment):\n",
    "            x = self.__vertices[1][0] + (self.__vertices[2][0] - self.__vertices[1][0]) * (i / points_per_segment)\n",
    "            y = self.__vertices[1][1] + (self.__vertices[2][1] - self.__vertices[1][1]) * (i / points_per_segment)\n",
    "            points.append((x, y))\n",
    "\n",
    "        for i in range(points_per_segment):\n",
    "            x = self.__vertices[2][0] + (self.__vertices[0][0] - self.__vertices[2][0]) * (i / points_per_segment)\n",
    "            y = self.__vertices[2][1] + (self.__vertices[0][1] - self.__vertices[2][1]) * (i / points_per_segment)\n",
    "            points.append((x, y))\n",
    "\n",
    "        return points[:num_points]  \n",
    "\n",
    "    def contains_point(self, x, y):\n",
    "        def sign(p1, p2, p3):\n",
    "            return (p1[0] - p3[0]) * (p2[1] - p3[1]) - (p2[0] - p3[0]) * (p1[1] - p3[1])\n",
    "\n",
    "        b1 = sign((x, y), self.__vertices[0], self.__vertices[1]) < 0.0\n",
    "        b2 = sign((x, y), self.__vertices[1], self.__vertices[2]) < 0.0\n",
    "        b3 = sign((x, y), self.__vertices[2], self.__vertices[0]) < 0.0\n",
    "\n",
    "        return (b1 == b2) and (b2 == b3)\n",
    "\n",
    "my_circle = Circle(5, 0, 0)\n",
    "print(\"Contains point (3, 3):\", my_circle.contains_point(3, 3))\n",
    "print(\"Contains point (0, 0):\", my_circle.contains_point(0, 0))\n",
    "\n",
    "my_rectangle = Rectangle(4, 6, 1, 1)\n",
    "print(\"Contains point (2, 3):\", my_rectangle.contains_point(2, 3))\n",
    "print(\"Contains point (5, 5):\", my_rectangle.contains_point(5, 5))\n",
    "\n",
    "my_triangle = Triangle(3, 4, 5, 0, 0, 3, 0, 0, 4)\n",
    "print(\"Contains point (1, 1):\", my_triangle.contains_point(1, 1))\n",
    "print(\"Contains point (5, 5):\", my_triangle.contains_point(5, 5))"
   ]
  },
  {
   "cell_type": "markdown",
   "metadata": {},
   "source": [
    "9. Add a function in the base class of the object classes that returns true/false testing that the object overlaps with another object."
   ]
  },
  {
   "cell_type": "code",
   "execution_count": null,
   "metadata": {},
   "outputs": [],
   "source": []
  },
  {
   "cell_type": "markdown",
   "metadata": {},
   "source": [
    "10. Copy the `Canvas` class from lecture to in a python file creating a `paint` module. Copy your classes from above into the module and implement paint functions. Implement a `CompoundShape` class. Create a simple drawing demonstrating that all of your classes are working."
   ]
  },
  {
   "cell_type": "code",
   "execution_count": null,
   "metadata": {},
   "outputs": [],
   "source": []
  },
  {
   "cell_type": "markdown",
   "metadata": {},
   "source": [
    "11. Create a `RasterDrawing` class. Demonstrate that you can create a drawing made of several shapes, paint the drawing, modify the drawing, and paint it again. "
   ]
  },
  {
   "cell_type": "code",
   "execution_count": null,
   "metadata": {},
   "outputs": [],
   "source": []
  },
  {
   "cell_type": "markdown",
   "metadata": {},
   "source": [
    "12. Implement the ability to load/save raster drawings and demonstate that your method works. One way to implement this ability:\n",
    "\n",
    "   * Overload `__repr__` functions of all objects to return strings of the python code that would construct the object.\n",
    "   \n",
    "   * In the save method of raster drawing class, store the representations into the file.\n",
    "   * Write a loader function that reads the file and uses `eval` to instantiate the object.\n",
    "\n",
    "For example:"
   ]
  },
  {
   "cell_type": "code",
   "execution_count": 1,
   "metadata": {},
   "outputs": [],
   "source": [
    "class foo:\n",
    "    def __init__(self,a,b=None):\n",
    "        self.a=a\n",
    "        self.b=b\n",
    "        \n",
    "    def __repr__(self):\n",
    "        return \"foo(\"+repr(self.a)+\",\"+repr(self.b)+\")\"\n",
    "    \n",
    "    def save(self,filename):\n",
    "        f=open(filename,\"w\")\n",
    "        f.write(self.__repr__())\n",
    "        f.close()\n",
    "        \n",
    "   \n",
    "def foo_loader(filename):\n",
    "    f=open(filename,\"r\")\n",
    "    tmp=eval(f.read())\n",
    "    f.close()\n",
    "    return tmp\n"
   ]
  },
  {
   "cell_type": "code",
   "execution_count": 2,
   "metadata": {},
   "outputs": [
    {
     "name": "stdout",
     "output_type": "stream",
     "text": [
      "foo(1,'hello')\n"
     ]
    }
   ],
   "source": [
    "# Test\n",
    "print(repr(foo(1,\"hello\")))"
   ]
  },
  {
   "cell_type": "code",
   "execution_count": 3,
   "metadata": {},
   "outputs": [],
   "source": [
    "# Create an object and save it\n",
    "ff=foo(1,\"hello\")\n",
    "ff.save(\"Test.foo\")"
   ]
  },
  {
   "cell_type": "code",
   "execution_count": 4,
   "metadata": {},
   "outputs": [
    {
     "name": "stdout",
     "output_type": "stream",
     "text": [
      "foo(1,'hello')"
     ]
    }
   ],
   "source": [
    "# Check contents of the saved file\n",
    "!cat Test.foo"
   ]
  },
  {
   "cell_type": "code",
   "execution_count": 5,
   "metadata": {},
   "outputs": [
    {
     "data": {
      "text/plain": [
       "foo(1,'hello')"
      ]
     },
     "execution_count": 5,
     "metadata": {},
     "output_type": "execute_result"
    }
   ],
   "source": [
    "# Load the object\n",
    "ff_reloaded=foo_loader(\"Test.foo\")\n",
    "ff_reloaded"
   ]
  },
  {
   "cell_type": "code",
   "execution_count": null,
   "metadata": {},
   "outputs": [],
   "source": []
  },
  {
   "cell_type": "code",
   "execution_count": null,
   "metadata": {},
   "outputs": [],
   "source": []
  }
 ],
 "metadata": {
  "kernelspec": {
   "display_name": "Python 3 (ipykernel)",
   "language": "python",
   "name": "python3"
  },
  "language_info": {
   "codemirror_mode": {
    "name": "ipython",
    "version": 3
   },
   "file_extension": ".py",
   "mimetype": "text/x-python",
   "name": "python",
   "nbconvert_exporter": "python",
   "pygments_lexer": "ipython3",
   "version": "3.10.12"
  }
 },
 "nbformat": 4,
 "nbformat_minor": 4
}
